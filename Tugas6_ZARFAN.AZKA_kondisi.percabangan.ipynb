{
 "cells": [
  {
   "cell_type": "code",
   "execution_count": 80,
   "id": "597ac827-bb85-4763-8f27-4ce321bb7db4",
   "metadata": {},
   "outputs": [
    {
     "name": "stdin",
     "output_type": "stream",
     "text": [
      "masukan usia anda : 20\n"
     ]
    },
    {
     "name": "stdout",
     "output_type": "stream",
     "text": [
      "dewasa\n"
     ]
    }
   ],
   "source": [
    "#Buatkan program yang meminta pengguna memasukkan usia seseorang, lalu tentukan apakah dia anak-anak (0-12 tahun), remaja (13-17 tahun), dewasa (18-59 tahun), atau lansia (60 tahun ke atas).\n",
    "# add code here ...\n",
    "jwb = int(input(\"masukan usia anda :\"))\n",
    "\n",
    "if jwb >= 0 and jwb <=12:\n",
    "      print(\"anak-anak\")\n",
    "elif jwb >= 13  and jwb <= 17:\n",
    "    print(\"remaja\")\n",
    "elif jwb >= 18 and jwb <= 59:\n",
    "    print(\"dewasa\")\n",
    "elif jwb >= 60 :\n",
    "    print(\"lansia\")\n",
    "else:\n",
    "    print(\"masukkan usia anda dengan benar\")"
   ]
  },
  {
   "cell_type": "code",
   "execution_count": 15,
   "id": "19647c6f-e16a-4cac-b72b-7ea37699e650",
   "metadata": {},
   "outputs": [
    {
     "name": "stdin",
     "output_type": "stream",
     "text": [
      "Isikan Umur Tiket 1: 30\n",
      "Isikan Umur Tiket 2: 40\n",
      "Isikan Umur Tiket 3: 25\n"
     ]
    },
    {
     "name": "stdout",
     "output_type": "stream",
     "text": [
      "harga tiket 1 : Rp 25000\n",
      "harga tiket 2 : Rp 25000\n",
      "harga tiket 3 : Rp 25000\n",
      "total semua belanja adalah Rp  75000\n"
     ]
    }
   ],
   "source": [
    "#Sebuah taman hiburan memiliki aturan harga tiket berdasarkan usia:\n",
    "#Anak-anak (0-12 tahun): Rp 10.000\n",
    "#Remaja (13-17 tahun): Rp 15.000\n",
    "#Dewasa (18-59 tahun): Rp 25.000\n",
    "#Lansia (60 tahun ke atas): Gratis\n",
    "#Buat program untuk menentukan harga tiket berdasarkan usia yang dimasukkan pengguna dan total harga yang harus dibayar, jika terdapat 3 input seperti berikut ini\n",
    "\n",
    "\n",
    "tiket1 = int(input(\"Isikan Umur Tiket 1:\"))\n",
    "tiket2 = int(input(\"Isikan Umur Tiket 2:\"))\n",
    "tiket3 = int(input(\"Isikan Umur Tiket 3:\"))\n",
    "\n",
    "# Fungsi untuk menentukan harga tiket berdasarkan usia\n",
    "# def hitung_harga(umur):\n",
    "#     if umur <= 12:  # Anak-anak\n",
    "#         return 10000\n",
    "#     elif umur <= 17:  # Remaja\n",
    "#         return 15000\n",
    "#     elif umur <= 59:  # Dewasa\n",
    "#         return 25000\n",
    "#     else:  # Lansia\n",
    "#         return 0\n",
    "\n",
    "\n",
    "# total_harga = hitung_harga(tiket1) + hitung_harga(tiket2) + hitung_harga(tiket3)\n",
    "\n",
    "\n",
    "# print(f\"Total harga tiket yang harus dibayar adalah Rp {total_harga}\")\n",
    "\n",
    "\n",
    "if tiket1 >= 0 and tiket1 <=12:\n",
    "      harga1 = 10000 #anak-anak\n",
    "elif tiket1 >= 13  and tiket1 <= 17:\n",
    "    harga1 = 15000 \n",
    "elif tiket1 >= 18 and tiket1 <= 59:\n",
    "    harga1 = 25000\n",
    "elif tiket1 >= 60 :\n",
    "   harga1 = 0\n",
    "else:\n",
    "    print(\"salah\")\n",
    "print (\"harga tiket 1 : Rp\",harga1)\n",
    "\n",
    "\n",
    "if tiket2 >= 0 and tiket2 <=12:\n",
    "      harga2 = 10000 #anak-anak\n",
    "elif tiket2 >= 13  and tiket2 <= 17:\n",
    "    harga2 = 15000 \n",
    "elif tiket2 >= 18 and tiket2 <= 59:\n",
    "    harga2 = 25000\n",
    "elif tiket2 >= 60 :\n",
    "   harga2 = 0\n",
    "else:\n",
    "    print(\"salah\")\n",
    "print (\"harga tiket 2 : Rp\",harga2)\n",
    "\n",
    "\n",
    "if tiket3 >= 0 and tiket3 <=12:\n",
    "      harga3 = 10000 #anak-anak\n",
    "elif tiket3 >= 13  and tiket3 <= 17:\n",
    "    harga3 = 15000 \n",
    "elif tiket2 >= 18 and tiket3 <= 59:\n",
    "    harga3 = 25000\n",
    "elif tiket3 >= 60 :\n",
    "   harga3 = 0\n",
    "else:\n",
    "    print(\"salah\")\n",
    "print (\"harga tiket 3 : Rp\",harga3)\n",
    "\n",
    "print(\"total semua belanja adalah Rp \", harga1+harga2+harga3)\n",
    "\n",
    "# add code here ..."
   ]
  },
  {
   "cell_type": "code",
   "execution_count": 27,
   "id": "30efd18b-ccd0-47f8-9a61-ddef7b3b9cf6",
   "metadata": {},
   "outputs": [
    {
     "name": "stdin",
     "output_type": "stream",
     "text": [
      "masukkan usia anda : 10\n",
      "masukkan total belanjaan anda : 60000\n"
     ]
    },
    {
     "name": "stdout",
     "output_type": "stream",
     "text": [
      "Selamat anda dapat diskon sebesar 50%\n",
      "total harga yang yang harus anda bayar adalah : Rp 30000.0\n"
     ]
    }
   ],
   "source": [
    "#Sebuah restoran memiliki diskon khusus:\n",
    "#Anak-anak (0-12 tahun) diskon 50% \n",
    "#Lansia (60 tahun ke atas) diskon 30% \n",
    "#Selain itu, tidak ada diskon Buat program untuk menghitung harga yang harus dibayar setelah diskon diberikan.\n",
    "# add code here ...\n",
    "anak = 0.5\n",
    "lansia = 0.3\n",
    "usia = int(input(\"masukkan usia anda :\"))\n",
    "belanja = int(input(\"masukkan total belanjaan anda :\"))\n",
    "\n",
    "if usia >= 0 and usia <= 12 :\n",
    "    diskon = belanja * anak\n",
    "    totalBelanja = belanja - diskon\n",
    "    print(\"Selamat anda dapat diskon sebesar 50%\")\n",
    "    print(\"total harga yang yang harus anda bayar adalah : Rp\", totalBelanja)\n",
    "elif usia >= 60 :\n",
    "    diskon = belanja * lansia\n",
    "    totalBelanja = belanja - diskon\n",
    "    print(\"Selamat anda dapat diskon sebesar 30%\")\n",
    "    print(\"total harga yang yang harus anda bayar adalah : Rp\", totalBelanja)\n",
    "elif usia <=0 :\n",
    "    print(\"masukkan umur anda dengan benar\")\n",
    "else :\n",
    "    print(\"anda tidak mendapatkan diskon\")\n",
    "    print(\"total belanjaan yang harus anda bayar adalah : Rp\", belanja)"
   ]
  },
  {
   "cell_type": "code",
   "execution_count": 32,
   "id": "361b80b9-f6ef-456e-93ce-db04029aff2b",
   "metadata": {},
   "outputs": [
    {
     "name": "stdin",
     "output_type": "stream",
     "text": [
      "masukkan nilai rapor anda(0-100) : 90\n",
      "masukkan penghasilan orang tua anda : 4000000\n"
     ]
    },
    {
     "name": "stdout",
     "output_type": "stream",
     "text": [
      "selamat anda mendapatkan beasiswa penuh\n"
     ]
    }
   ],
   "source": [
    "#Program beasiswa:\n",
    "#Jika nilai rapor ≥ 90 dan penghasilan orang tua < Rp 5.000.000 → Beasiswa Penuh\n",
    "#Jika nilai rapor ≥ 85 dan penghasilan orang tua < Rp 8.000.000 → Beasiswa 50%\n",
    "#Jika tidak memenuhi syarat di atas → Tidak mendapatkan beasiswa\n",
    "\n",
    "# add code here ...\n",
    "nilai = int(input(\"masukkan nilai rapor anda(0-100) :\"))\n",
    "gaji = int(input(\"masukkan penghasilan orang tua anda :\"))\n",
    "\n",
    "if nilai <= 0 or nilai > 100 :\n",
    "    print(\"masukkan nilai anda dengan benar\")\n",
    "elif nilai >= 90 and nilai <= 100 and gaji <= 5000000 :\n",
    "    print(\"selamat anda mendapatkan beasiswa penuh\")\n",
    "elif nilai >= 85 and nilai <= 100 and gaji <= 8000000 :\n",
    "    print(\"selamat anda menadapatkan beasiswa 50%\")\n",
    "else :\n",
    "    print(\"maaf anda tidak mendapatkan beasiswa ini\")"
   ]
  },
  {
   "cell_type": "code",
   "execution_count": 37,
   "id": "ab1c50b3-b2a7-4f34-a43d-9f540c9daa6b",
   "metadata": {},
   "outputs": [
    {
     "name": "stdin",
     "output_type": "stream",
     "text": [
      "masukkan usia anda : 18\n"
     ]
    },
    {
     "name": "stdout",
     "output_type": "stream",
     "text": [
      "kategori film\n",
      "1. semua umur\n",
      "2. remaja\n",
      "3. dewasa\n"
     ]
    },
    {
     "name": "stdin",
     "output_type": "stream",
     "text": [
      "isikan kategori film yang ingin anda tonton  : 3\n"
     ]
    },
    {
     "name": "stdout",
     "output_type": "stream",
     "text": [
      "Tidak boleh menonton film\n"
     ]
    }
   ],
   "source": [
    "#Suatu aplikasi streaming memiliki batasan usia:\n",
    "#Film Semua Umur: Bisa ditonton oleh siapa saja\n",
    "#Film Remaja: Hanya untuk usia ≥ 13 tahun\n",
    "#Film Dewasa: Hanya untuk usia ≥ 18 tahun\n",
    "#Buat program yang meminta input usia dan kategori film, lalu tentukan apakah seseorang boleh menonton film tersebut atau tidak.\n",
    "\n",
    "# add code here ...\n",
    "usia = int(input(\"masukkan usia anda :\"))\n",
    "print(\"\"\"kategori film\n",
    "1. semua umur\n",
    "2. remaja\n",
    "3. dewasa\"\"\")\n",
    "kategori = input(\"isikan kategori film yang ingin anda tonton  :\")\n",
    "\n",
    "if usia >= 13 and kategori == \"remaja\":\n",
    "    print(\"Boleh menonton film\")\n",
    "elif usia >= 18 and kategori == \"dewasa\":\n",
    "    print(\"Boleh menonton film\")\n",
    "elif usia >= 0 and kategori == \"semua umur\":\n",
    "    print(\"Boleh menonton film\")\n",
    "else:\n",
    "    print(\"Tidak boleh menonton film\")"
   ]
  },
  {
   "cell_type": "code",
   "execution_count": 42,
   "id": "9c0264b2-062c-46f8-9e1f-c7087fc93403",
   "metadata": {},
   "outputs": [
    {
     "name": "stdin",
     "output_type": "stream",
     "text": [
      "masukkan total belanjaan anda : 400000\n"
     ]
    },
    {
     "name": "stdout",
     "output_type": "stream",
     "text": [
      "selamat anda mendapatkan diskon sebesar 10%\n",
      "total belanjaan anda adalah : Rp 360000.0\n"
     ]
    }
   ],
   "source": [
    "#Sebuah toko memberikan diskon berdasarkan jumlah pembelian:\n",
    "#Jika total belanja ≥ Rp 500.000 → Diskon 20%\n",
    "#Jika total belanja ≥ Rp 250.000 → Diskon 10%\n",
    "#Jika total belanja < Rp 250.000 → Tidak ada diskon\n",
    "#Hitung harga akhir setelah diskon.\n",
    "\n",
    "# add code here\n",
    "tBelanja = int(input(\"masukkan total belanjaan anda :\"))\n",
    "\n",
    "if tBelanja >= 500000 :\n",
    "    diskon = tBelanja * 0.2\n",
    "    total = tBelanja - diskon\n",
    "    print(\"selamat anda mendapatkan diskon sebesar 20%\")\n",
    "    print(\"total belanjaan anda adalah : Rp\", total)\n",
    "elif tBelanja >= 250000 :\n",
    "    diskon = tBelanja * 0.1\n",
    "    total = tBelanja - diskon\n",
    "    print(\"selamat anda mendapatkan diskon sebesar 10%\")\n",
    "    print(\"total belanjaan anda adalah : Rp\", total)\n",
    "elif tBelanja >= 0 :\n",
    "    print(\"maaf anda tidak mendapatkan diskon\")\n",
    "    print(\"total belanjaan anda adalah : Rp\", tBelanja)\n",
    "else :\n",
    "    print(\"anda kasbon?\")"
   ]
  },
  {
   "cell_type": "code",
   "execution_count": 87,
   "id": "1ccc4c33-6e2b-4c94-bf51-e22b40d2f2db",
   "metadata": {},
   "outputs": [
    {
     "name": "stdout",
     "output_type": "stream",
     "text": [
      "Program parkir: \n",
      "- Mobil \n",
      "- Motor\n",
      "\n"
     ]
    },
    {
     "name": "stdin",
     "output_type": "stream",
     "text": [
      "Masukan kategori kendaraan: mobol\n"
     ]
    },
    {
     "name": "stdout",
     "output_type": "stream",
     "text": [
      "\n",
      "Program parkir: \n",
      "Mobil: Rp 5.000 per jam \n",
      "Motor: Rp 2.000 per jam \n",
      "Jika parkir lebih dari 5 jam, ada biaya tambahan Rp 10.000 \n",
      "\n"
     ]
    },
    {
     "name": "stdin",
     "output_type": "stream",
     "text": [
      "Masukan berapa jam anda parkir: 6\n"
     ]
    },
    {
     "name": "stdout",
     "output_type": "stream",
     "text": [
      "\n",
      "Karena parkir lebih dari 5 jam, ada biaya tambahan Rp 10.000\n",
      "\n",
      "Total biaya parkir adalah Rp 40000\n"
     ]
    }
   ],
   "source": [
    "#parkir:\n",
    "#Mobil: Rp 5.000 per jam\n",
    "#Motor: Rp 2.000 per jam\n",
    "#Jika parkir lebih dari 5 jam, ada biaya tambahan Rp 10.000\n",
    "#Hitung total biaya parkir berdasarkan jenis kendaraan dan durasi parkir.\n",
    "\n",
    "#add code here\n",
    "print(f\"Program parkir: \\n- Mobil \\n- Motor\\n\")\n",
    "kendaraan = input(\"Masukan kategori kendaraan:\")\n",
    "\n",
    "print(f\"\\nProgram parkir: \\nMobil: Rp 5.000 per jam \\nMotor: Rp 2.000 per jam \\nJika parkir lebih dari 5 jam, ada biaya tambahan Rp 10.000 \\n\")\n",
    "jParkir = int(input(\"Masukan berapa jam anda parkir:\"))\n",
    "\n",
    "if kendaraan == \"mobil\":\n",
    "    BPJ = 5000\n",
    "elif kendaraan == \"motor\":\n",
    "    BPJ = 2000\n",
    "\n",
    "biaya = BPJ * jParkir\n",
    "if jParkir > 5:\n",
    "    biaya += 10000\n",
    "    print(f\"\\nKarena parkir lebih dari 5 jam, ada biaya tambahan Rp 10.000\")\n",
    "\n",
    "print(f\"\\nTotal biaya parkir adalah Rp {biaya}\")"
   ]
  },
  {
   "cell_type": "code",
   "execution_count": 56,
   "id": "7a096ae9-8889-4045-a009-fe32170e70ae",
   "metadata": {},
   "outputs": [
    {
     "name": "stdin",
     "output_type": "stream",
     "text": [
      "Masukkan jarak perjalanan:  5000\n"
     ]
    },
    {
     "name": "stdout",
     "output_type": "stream",
     "text": [
      "Tarif perjalanan untuk 5000 km adalah: Rp 15000000\n"
     ]
    }
   ],
   "source": [
    "#Aplikasi transportasi online memiliki tarif sebagai berikut:\n",
    "#Jika jarak ≤ 5 km → Rp 5.000/km\n",
    "#Jika jarak 6-10 km → Rp 4.000/km\n",
    "#Jika jarak > 10 km → Rp 3.000/km\n",
    "#Hitung tarif perjalanan berdasarkan jarak yang dimasukkan pengguna.\n",
    "\n",
    "# add code here\n",
    "jarak = int(input(\"Masukkan jarak perjalanan: \"))\n",
    "\n",
    "if jarak <= 5 and jarak >= 0:\n",
    "    perKM = 5000\n",
    "elif jarak >= 6 and jarak <= 10:\n",
    "    perKM = 4000\n",
    "elif jarak >= 10:\n",
    "    perKM = 3000\n",
    "else:\n",
    "    perKM = 0\n",
    "\n",
    "totalTarif = perKM * jarak\n",
    "\n",
    "print(f\"Tarif perjalanan untuk {jarak} km adalah: Rp {totalTarif}\")"
   ]
  },
  {
   "cell_type": "code",
   "execution_count": 69,
   "id": "1ce58fd1-2925-4293-960e-94d70034dd18",
   "metadata": {},
   "outputs": [
    {
     "name": "stdin",
     "output_type": "stream",
     "text": [
      "Masukkan nilai coding (0-100):  90\n",
      "Masukkan nilai interview (A/B/C/D/E):  B\n"
     ]
    },
    {
     "name": "stdout",
     "output_type": "stream",
     "text": [
      "Selamat Kamu Berhasil Menjadi Calon Programmer\n"
     ]
    }
   ],
   "source": [
    "#Buatlah sebuah sistem penerimaan calon programmer yang akan menerima dua nilai ( nilai coding dan nilai interview). Untuk penilaian test coding skala penilaian yang diberikan dimulai dari 0 hingga 100 dengan sistem penilaian:\n",
    "#1.ketika seseorang mendapatkan nilai lebih dari 80 maka peserta tersebut akan mendapatkan hasil tes LOLOS\n",
    "#2.ketika sesorang mendapatkan nilai diantara 60 hingga 80 maka peserta tersebut mendapatkan hasil tes DIPERTIMBANGKAN\n",
    "#3.ketika seseorang mendapatkan nilai dibawah 60 maka peserta tersebut mendapatkan hasil tes GAGAL.\n",
    "#Sedangkan untuk penilaian interview adalah\n",
    "#1.ketika nilai yang diberikan kepada seseorang tersebut adalah \"A\" atau \"B\" maka peserta tersebut dianggap LOLOS interview\n",
    "#2.selain kedua nilai tersebut maka peserta dianggap GAGAL tes interview.\n",
    "#Ketika calon programmer mendapatkan nilai coding LOLOS atau DIPERTIMBANGKAN dan juga LOLOS test interview maka tampilkanlah pesan \"Selamat Kamu Berhasil Menjadi Calon Programmer\". Jika tidak maka tampilkanlah pesan \"Maaf Kamu Belum Berhasil Menjadi Calon Programmer\"\n",
    "\n",
    "# add code here\n",
    "nilaiCoding = int(input(\"Masukkan nilai coding (0-100): \"))\n",
    "\n",
    "nilaiInterview = input(\"Masukkan nilai interview (A/B/C/D/E): \")\n",
    "\n",
    "# Penilaian nilai coding\n",
    "if nilaiCoding > 80:\n",
    "    hasilCoding = \"LOLOS\"\n",
    "elif nilaiCoding >= 60:\n",
    "    hasilCoding = \"DIPERTIMBANGKAN\"\n",
    "else:\n",
    "    hasilCoding = \"GAGAL\"\n",
    "\n",
    "# Penilaian nilai interview\n",
    "if nilaiInterview == \"A\" or nilaiInterview == \"B\":\n",
    "    hasilInterview = \"LOLOS\"\n",
    "else:\n",
    "    hasilInterview = \"GAGAL\"\n",
    "\n",
    "# Menentukan kelulusan calon programmer\n",
    "if (hasilCoding == \"LOLOS\" or hasilCoding == \"DIPERTIMBANGKAN\") and hasilInterview == \"LOLOS\":\n",
    "    print(\"Selamat Kamu Berhasil Menjadi Calon Programmer\")\n",
    "else:\n",
    "    print(\"Maaf Kamu Belum Berhasil Menjadi Calon Programmer\")"
   ]
  },
  {
   "cell_type": "code",
   "execution_count": 73,
   "id": "4f858d82-93f2-4722-9bcd-03f6c78ee758",
   "metadata": {},
   "outputs": [
    {
     "name": "stdin",
     "output_type": "stream",
     "text": [
      "Masukkan nomor punggung:  20\n"
     ]
    },
    {
     "name": "stdout",
     "output_type": "stream",
     "text": [
      "Target Attacker\n"
     ]
    }
   ],
   "source": [
    "#Sebuah klub sepak bola “PERSEGI FC” mempunyai aturan dalam memberikan nomor punggung bagi para pemainnya. Para pemain diperbolehkan mempunyai posisi lebih dari 1. Berikut adalah beberapa aturannya:\n",
    "\n",
    "#Untuk nomor punggung genap, digunakan untuk posisi “target attacker”\n",
    "#Untuk nomor punggung genap antara 50 – 100, digunakan untuk pemain yang “berhak dipilih menjadi capten team”\n",
    "#Untuk nomor punggung ganjil, digunakan untuk posisi “defender”\n",
    "#Untuk nomor punggung ganjil lebih dari 90, digunakan untuk posisi “Playmaker”\n",
    "#Untuk nomor punggung ganjil kelipatan dari 3 dan 5, digunakan untuk posisi “keeper”\n",
    "\n",
    "#Buatlah program untuk melakukan pengecekan sebuah nomor punggung dapat berfungsi sebagai posisi apa saja.\n",
    "\n",
    "# add code here\n",
    "nPunggung = int(input(\"Masukkan nomor punggung: \"))\n",
    "\n",
    "if nPunggung % 2 == 0:\n",
    "    posisi = \"Target Attacker\"\n",
    "    if nPunggung >= 50 and nPunggung <= 100:\n",
    "        posisi = \"Pemain ini berhak dipilih menjadi captain team\"\n",
    "else:\n",
    "    posisi = \"Defender\"\n",
    "    if nPunggung > 90:\n",
    "        posisi = \"Playmaker\"\n",
    "    if nPunggung % 3 == 0 and nPunggung % 5 == 0:\n",
    "        posisi = \"Keeper\"\n",
    "\n",
    "print(posisi)"
   ]
  }
 ],
 "metadata": {
  "kernelspec": {
   "display_name": "Python [conda env:base] *",
   "language": "python",
   "name": "conda-base-py"
  },
  "language_info": {
   "codemirror_mode": {
    "name": "ipython",
    "version": 3
   },
   "file_extension": ".py",
   "mimetype": "text/x-python",
   "name": "python",
   "nbconvert_exporter": "python",
   "pygments_lexer": "ipython3",
   "version": "3.12.7"
  }
 },
 "nbformat": 4,
 "nbformat_minor": 5
}
