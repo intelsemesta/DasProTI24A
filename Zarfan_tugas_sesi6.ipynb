{
 "cells": [
  {
   "cell_type": "markdown",
   "id": "0492474b-c4c7-4380-b009-bf2e59ed6bd2",
   "metadata": {},
   "source": [
    "<h1>JAWABAN PERTAMA</h1>"
   ]
  },
  {
   "cell_type": "code",
   "execution_count": 18,
   "id": "2000842d-49ac-42d3-852f-ccb86cf6f99e",
   "metadata": {},
   "outputs": [
    {
     "name": "stdin",
     "output_type": "stream",
     "text": [
      "Masukan nama lengkap: zarfan azka\n",
      "Masukan tempat lahir sukabumi\n",
      "Masukan tanggal lahir 28-maret-2003\n",
      "Masukan pekerjaan: mahasiswa\n",
      "Masukan alamat: jalan kadudampit\n",
      "Masukan jenis kelamin: laki-laki\n",
      "Masukan alamat email: zarfanazka2827@gmail.com\n"
     ]
    },
    {
     "name": "stdout",
     "output_type": "stream",
     "text": [
      "\n",
      "========== Biodata Sederhana ==========\n",
      "\n",
      "Nama Lengkap             : zarfan azka\n",
      "Tempat dan Tanggal Lahir : sukabumi, 28-maret-2003\n",
      "Alamat                   : jalan kadudampit\n",
      "Jenis Kelamin            : laki-laki\n",
      "Alamat Email             : zarfanazka2827@gmail.com\n"
     ]
    }
   ],
   "source": [
    "nama = input(\"Masukan nama lengkap:\")\n",
    "tempat  = input(\"Masukan tempat lahir\")\n",
    "tglLahir = input(\"Masukan tanggal lahir\")\n",
    "pekerjaan = input(\"Masukan pekerjaan:\")\n",
    "alamat = input(\"Masukan alamat:\")\n",
    "jnsKelamin = input(\"Masukan jenis kelamin:\")\n",
    "email = input(\"Masukan alamat email:\")\n",
    "\n",
    "print(\"\\n========== Biodata Sederhana ==========\\n\")\n",
    "print(\"Nama Lengkap             : {}\".format(nama))\n",
    "print(\"Tempat dan Tanggal Lahir : {}, {}\".format(tempat,tglLahir))\n",
    "print(\"Alamat                   : {}\".format(alamat))\n",
    "print(\"Jenis Kelamin            : {}\".format(jnsKelamin))\n",
    "print(\"Alamat Email             : {}\".format(email))"
   ]
  },
  {
   "cell_type": "markdown",
   "id": "b11c0711-2241-41b2-99cd-f1a6e3e598b7",
   "metadata": {},
   "source": [
    "<h1>JAWABAN KEDUA</h1>"
   ]
  },
  {
   "cell_type": "code",
   "execution_count": 22,
   "id": "fe4c637e-dee9-4b43-97f8-7102cf1019dd",
   "metadata": {},
   "outputs": [
    {
     "name": "stdout",
     "output_type": "stream",
     "text": [
      "a. putra nusa\n",
      "b. NIVERSITAS NSA PTRA SKABMI\n",
      "c. SUKABUMI PUTRA NUSA UNIVERSITAS\n",
      "d. UNPS\n",
      "e. TAS SAPU BUMI\n"
     ]
    }
   ],
   "source": [
    "kalimat = \"UNIVERSITAS NUSA PUTRA SUKABUMI\"\n",
    "\n",
    "a = kalimat.split()\n",
    "print(f\"a. {a[2]} {a[1]}\".lower())\n",
    "\n",
    "b = kalimat.replace(\"U\",\"\")\n",
    "print(f\"b. {b}\")\n",
    "\n",
    "dibalik = a[::-1]\n",
    "c = \" \".join(dibalik)\n",
    "print(f\"c. {c}\")\n",
    "\n",
    "d = \"\"\n",
    "for kata in a:\n",
    "    d += kata[0]\n",
    "print(f\"d. {d}\")\n",
    "\n",
    "print(f\"e. {a[0][-3:]} {a[1][-2:]}{a[2][0:2]} {a[3][-4:]}\")"
   ]
  }
 ],
 "metadata": {
  "kernelspec": {
   "display_name": "Python [conda env:base] *",
   "language": "python",
   "name": "conda-base-py"
  },
  "language_info": {
   "codemirror_mode": {
    "name": "ipython",
    "version": 3
   },
   "file_extension": ".py",
   "mimetype": "text/x-python",
   "name": "python",
   "nbconvert_exporter": "python",
   "pygments_lexer": "ipython3",
   "version": "3.12.7"
  }
 },
 "nbformat": 4,
 "nbformat_minor": 5
}
