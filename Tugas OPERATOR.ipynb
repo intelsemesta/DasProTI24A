{
 "cells": [
  {
   "cell_type": "markdown",
   "id": "93969450-3df2-4bab-8d0e-64fda116f279",
   "metadata": {},
   "source": [
    "<h1>OPERATOR ARITMATIKA </h1> "
   ]
  },
  {
   "cell_type": "code",
   "execution_count": 9,
   "id": "c6bf1d85-b444-4715-a789-af936550d212",
   "metadata": {},
   "outputs": [
    {
     "name": "stdout",
     "output_type": "stream",
     "text": [
      "Setiap teman Budi mendapatkan 3 apel.\n",
      "Total apel yang dimiliki Budi sekarang adalah 20 apel.\n"
     ]
    }
   ],
   "source": [
    "# Jumlah awal apel \n",
    "budi = 12\n",
    "\n",
    "# Jumlah yang di bagikan kepada teman budi\n",
    "teman = 4\n",
    "\n",
    "apel_dibagi_teman = budi // teman \n",
    "print(f\"Setiap teman Budi mendapatkan {apel_dibagi_teman} apel.\")\n",
    "\n",
    "addApel = 8\n",
    "\n",
    "#hasil\n",
    "totalapel = budi + addApel\n",
    "print(f\"Total apel yang dimiliki Budi sekarang adalah {totalapel} apel.\")"
   ]
  },
  {
   "cell_type": "markdown",
   "id": "00be323b-fd29-40f0-995f-41e61ee88dfc",
   "metadata": {},
   "source": [
    "<h1>OPERATOR PERBANDINGAN</h1>"
   ]
  },
  {
   "cell_type": "code",
   "execution_count": 13,
   "id": "af2d8669-a3f7-4a0d-b82c-daa10c438d6e",
   "metadata": {},
   "outputs": [
    {
     "name": "stdout",
     "output_type": "stream",
     "text": [
      "Andi lebih Tinggi\n"
     ]
    }
   ],
   "source": [
    "Siti = 160\n",
    "Andi = 165\n",
    "if Siti > Andi :\n",
    "    print(\"Siti lebih Tinggi\")\n",
    "elif Siti < Andi :\n",
    "     print(\"Andi lebih Tinggi\")\n",
    "else :\n",
    "      print(\"kedua sama Tinggi\")\n",
    "    "
   ]
  },
  {
   "cell_type": "markdown",
   "id": "e149748a-1911-4284-8228-5f394a8e7530",
   "metadata": {},
   "source": [
    "<h1>OPERATOR LOGIKA</h1>"
   ]
  },
  {
   "cell_type": "code",
   "execution_count": 27,
   "id": "559df307-d5cd-46a0-968e-3d496cb22671",
   "metadata": {},
   "outputs": [
    {
     "name": "stdout",
     "output_type": "stream",
     "text": [
      "Budi bisa bermain\n"
     ]
    }
   ],
   "source": [
    "cuaca = True\n",
    "pr = False\n",
    "\n",
    "if cuaca or pr :\n",
    "    print(\"Budi bisa bermain\")\n",
    "else :\n",
    "     print(\"Budi Tidak bisa bermain\")"
   ]
  },
  {
   "cell_type": "markdown",
   "id": "1f0823ff-f729-45b2-bb64-12ad12ec388f",
   "metadata": {},
   "source": [
    "<h1>OPERATOR BITWISE</h1>"
   ]
  },
  {
   "cell_type": "code",
   "execution_count": 7,
   "id": "1087a8e1-c46e-4f54-99b3-3967564596a3",
   "metadata": {},
   "outputs": [
    {
     "name": "stdin",
     "output_type": "stream",
     "text": [
      "Masukkan bilangan: 2\n",
      "Masukkan bilangan: 3\n"
     ]
    },
    {
     "name": "stdout",
     "output_type": "stream",
     "text": [
      "Biner dari bilangan (bill): (bin(bill))\n",
      "Biner dari bilangan (bil2): (bin(bil2))\n",
      "\n",
      "AND:\n",
      "0b10\n",
      "0b11\n",
      "0b10\n",
      "Hasilnya adalah (AND)\n",
      "\n",
      "OR:\n",
      "0b10\n",
      "0b11\n",
      "0b10\n",
      "Hasilnya adalah (OR) \n",
      "\n",
      "XOR:\n",
      "0b10\n",
      "0b11\n",
      "0b10\n",
      "Hasilnya adalah XOR \n",
      "\n"
     ]
    }
   ],
   "source": [
    "bil1 = int(input('Masukkan bilangan:'))\n",
    "bil2 = int(input('Masukkan bilangan:'))\n",
    "\n",
    "print(f\"Biner dari bilangan (bill): (bin(bill))\")\n",
    "print(f\"Biner dari bilangan (bil2): (bin(bil2))\\n\")\n",
    "\n",
    "print(\"AND:\")\n",
    "AND = bil1 & bil2\n",
    "print(bin(bil1))\n",
    "print(bin(bil2))\n",
    "print(bin(AND))\n",
    "print(f\"Hasilnya adalah (AND)\\n\") #hasil AND\n",
    "\n",
    "print(\"OR:\")\n",
    "OR = bil1 & bil2\n",
    "print(bin(bil1))\n",
    "print(bin(bil2))\n",
    "print(bin(OR))\n",
    "print(f\"Hasilnya adalah (OR) \\n\") #hasil OR\n",
    "\n",
    "print(\"XOR:\")\n",
    "XOR = bil1 & bil2\n",
    "print(bin(bil1))\n",
    "print(bin(bil2))\n",
    "print(bin(XOR))\n",
    "print(\"Hasilnya adalah XOR \\n\") #hasil XOR"
   ]
  },
  {
   "cell_type": "markdown",
   "id": "c0de74d8-99df-4440-b95b-49a3b5a014d8",
   "metadata": {},
   "source": [
    "<h1>OPERATOR PENUGASAN</h1>"
   ]
  },
  {
   "cell_type": "code",
   "execution_count": 17,
   "id": "eb9fd6ba-89e3-4147-bb0b-a829fcd8c2a3",
   "metadata": {},
   "outputs": [
    {
     "name": "stdout",
     "output_type": "stream",
     "text": [
      "Sisa saldo pulsa adalah: Rp 40000\n"
     ]
    }
   ],
   "source": [
    "saldopulsa = 50000\n",
    "isiulang = 20000\n",
    "saldopulsa += isiulang \n",
    "\n",
    "hargapaket = 30000\n",
    "saldopulsa -= hargapaket  \n",
    "\n",
    "#Sisa saldo\n",
    "print(\"Sisa saldo pulsa adalah: Rp\", saldo_pulsa)"
   ]
  },
  {
   "cell_type": "markdown",
   "id": "5c6e52c3-a692-4222-b040-a316f1e07439",
   "metadata": {},
   "source": [
    "<h1>OPERATOR KEANGGOTAAN</h1>"
   ]
  },
  {
   "cell_type": "code",
   "execution_count": 50,
   "id": "371ae5aa-c738-4787-a9ce-aad635255979",
   "metadata": {},
   "outputs": [
    {
     "name": "stdin",
     "output_type": "stream",
     "text": [
      "Masukkan nama : Andi\n"
     ]
    },
    {
     "name": "stdout",
     "output_type": "stream",
     "text": [
      "True\n",
      "True\n",
      "False\n",
      "False\n"
     ]
    },
    {
     "name": "stdin",
     "output_type": "stream",
     "text": [
      "Masukkan Kata saya suka belajar python\n"
     ]
    },
    {
     "name": "stdout",
     "output_type": "stream",
     "text": [
      "False\n",
      "False\n",
      "True\n",
      "True\n"
     ]
    }
   ],
   "source": [
    "name = input(\"Masukkan nama :\") \n",
    "listNama = [\"Andi\",\"Budi\",\"Citra\",\"Dewi\"]\n",
    "print(name in listNama)\n",
    "print(name in listNama[0])\n",
    "print(name not in listNama)\n",
    "print(name not in listNama[0])\n",
    "\n",
    "kata = input(\"Masukkan Kata\")\n",
    "listKata = \"saya suka belajar pyhton\"\n",
    "print(kata in listKata)\n",
    "print(kata in listKata[0])\n",
    "print(kata not in listKata)\n",
    "print(kata not in listKata[0])"
   ]
  },
  {
   "cell_type": "markdown",
   "id": "5bb3a452-b907-4702-b1fa-5eea514aa393",
   "metadata": {},
   "source": [
    "<h1>OPERATOR IDENTITAS</h1>"
   ]
  },
  {
   "cell_type": "code",
   "execution_count": 56,
   "id": "4118e772-4483-4df8-94d4-10b85d2205d0",
   "metadata": {},
   "outputs": [
    {
     "name": "stdout",
     "output_type": "stream",
     "text": [
      "Memori dari x 140730512779832\n",
      "Memori dari y 140730512779832\n",
      "True\n",
      "False\n"
     ]
    }
   ],
   "source": [
    "x = 5\n",
    "y = 5\n",
    "\n",
    "print(\"Memori dari x\", id(x))\n",
    "print(\"Memori dari y\", id(y))\n",
    "print( x is y)\n",
    "print(x is not y)\n"
   ]
  },
  {
   "cell_type": "code",
   "execution_count": 66,
   "id": "397c0672-16c0-48d1-a527-b72529792dfa",
   "metadata": {},
   "outputs": [
    {
     "name": "stdout",
     "output_type": "stream",
     "text": [
      "True\n",
      "False\n"
     ]
    }
   ],
   "source": [
    "list1 =[3,5,7]\n",
    "list2 =[3,5,7]\n",
    "\n",
    "list1 = list2\n",
    "\n",
    "print(list1 is list2)\n",
    "print(list1 is not list2)"
   ]
  },
  {
   "cell_type": "markdown",
   "id": "5da88854-53ea-4382-bb4f-25ee68872f7a",
   "metadata": {},
   "source": [
    "<h1>OPERATOR TERNARY</h1>"
   ]
  },
  {
   "cell_type": "code",
   "execution_count": 82,
   "id": "32058949-1096-4e11-99f0-c46554f4c5a2",
   "metadata": {},
   "outputs": [
    {
     "name": "stdin",
     "output_type": "stream",
     "text": [
      "Masukkan angka : 150\n"
     ]
    },
    {
     "name": "stdout",
     "output_type": "stream",
     "text": [
      "Lebih besar dari 100\n"
     ]
    }
   ],
   "source": [
    "number = int(input(\"Masukkan angka :\"))\n",
    "hasil = \"Lebih besar dari 100\" if number >= 100 else \"Lebih kecil dari 100\"\n",
    "print(hasil)"
   ]
  },
  {
   "cell_type": "code",
   "execution_count": 91,
   "id": "9c24bdaa-bd21-447f-b4b5-715c71358b08",
   "metadata": {},
   "outputs": [
    {
     "name": "stdin",
     "output_type": "stream",
     "text": [
      "Masukkan nilai : 80\n",
      "Masukkan nilai : 100\n"
     ]
    },
    {
     "name": "stdout",
     "output_type": "stream",
     "text": [
      "LULUS\n",
      "LULUS\n"
     ]
    }
   ],
   "source": [
    "nilai = int(input(\"Masukkan nilai :\"))\n",
    "nilai2 = int(input(\"Masukkan nilai :\"))\n",
    "\n",
    "status = \"LULUS\" if nilai >= 70 else \"TIDAK LULUS\"\n",
    "status2 = \"LULUS\" if nilai >= 70 else \"TIDAK LULUS\"\n",
    "print(status)\n",
    "print(status2)\n",
    "\n",
    "                \n",
    "                  "
   ]
  }
 ],
 "metadata": {
  "kernelspec": {
   "display_name": "Python [conda env:base] *",
   "language": "python",
   "name": "conda-base-py"
  },
  "language_info": {
   "codemirror_mode": {
    "name": "ipython",
    "version": 3
   },
   "file_extension": ".py",
   "mimetype": "text/x-python",
   "name": "python",
   "nbconvert_exporter": "python",
   "pygments_lexer": "ipython3",
   "version": "3.12.7"
  }
 },
 "nbformat": 4,
 "nbformat_minor": 5
}
