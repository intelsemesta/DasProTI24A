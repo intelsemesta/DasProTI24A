{
 "cells": [
  {
   "cell_type": "code",
   "execution_count": 13,
   "id": "70cb94fa-c216-47a9-93ea-be628b712333",
   "metadata": {},
   "outputs": [
    {
     "ename": "ModuleNotFoundError",
     "evalue": "No module named 'Aritmatika.aritmatika'",
     "output_type": "error",
     "traceback": [
      "\u001b[1;31m---------------------------------------------------------------------------\u001b[0m",
      "\u001b[1;31mModuleNotFoundError\u001b[0m                       Traceback (most recent call last)",
      "Cell \u001b[1;32mIn[13], line 1\u001b[0m\n\u001b[1;32m----> 1\u001b[0m \u001b[38;5;28;01mimport\u001b[39;00m \u001b[38;5;21;01mAritmatika\u001b[39;00m\u001b[38;5;21;01m.\u001b[39;00m\u001b[38;5;21;01maritmatika\u001b[39;00m \u001b[38;5;28;01mas\u001b[39;00m \u001b[38;5;21;01mam\u001b[39;00m\n\u001b[0;32m      2\u001b[0m \u001b[38;5;28;01mimport\u001b[39;00m \u001b[38;5;21;01mKonversi\u001b[39;00m\u001b[38;5;21;01m.\u001b[39;00m\u001b[38;5;21;01mkonversi\u001b[39;00m \u001b[38;5;28;01mas\u001b[39;00m \u001b[38;5;21;01mkv\u001b[39;00m\n\u001b[0;32m      3\u001b[0m \u001b[38;5;28;01mimport\u001b[39;00m \u001b[38;5;21;01mUbahBilangan\u001b[39;00m\u001b[38;5;21;01m.\u001b[39;00m\u001b[38;5;21;01mubahBilangan\u001b[39;00m \u001b[38;5;28;01mas\u001b[39;00m \u001b[38;5;21;01mub\u001b[39;00m\n",
      "\u001b[1;31mModuleNotFoundError\u001b[0m: No module named 'Aritmatika.aritmatika'"
     ]
    }
   ],
   "source": [
    "import Aritmatika.aritmatika as am\n",
    "import Konversi.konversi as kv\n",
    "import UbahBilangan.ubahBilangan as ub"
   ]
  },
  {
   "cell_type": "code",
   "execution_count": 17,
   "id": "0c84f726-db11-433f-96a3-863eaebdde80",
   "metadata": {},
   "outputs": [
    {
     "name": "stdout",
     "output_type": "stream",
     "text": [
      "\n",
      "    1. Aritmatika\n",
      "    2. Konversi\n",
      "    3. Ubah Bilangan\n",
      "    4. Keluar\n",
      "    \n"
     ]
    },
    {
     "name": "stdin",
     "output_type": "stream",
     "text": [
      "isikan Pilihan Menu:  4\n"
     ]
    },
    {
     "name": "stdout",
     "output_type": "stream",
     "text": [
      "Terima Kasih !!!\n"
     ]
    }
   ],
   "source": [
    "def menuUtama():\n",
    "    print(\"\"\"\n",
    "    1. Aritmatika\n",
    "    2. Konversi\n",
    "    3. Ubah Bilangan\n",
    "    4. Keluar\n",
    "    \"\"\")\n",
    "\n",
    "def menuAritmatika():\n",
    "    print(\"\"\"\n",
    "    1. Penjumlahan\n",
    "    2. Perpangkatan\n",
    "    3. Perkalian\n",
    "    4. Keluar\n",
    "    \"\"\")\n",
    "\n",
    "def menuKonversi():\n",
    "    print(\"\"\"\n",
    "    1. CM to Meter\n",
    "    2. Meter to CM\n",
    "    3. Keluar\n",
    "    \"\"\")\n",
    "\n",
    "def menuUbahBilangan():\n",
    "    print(\"\"\"\n",
    "    1. Desimal to Biner\n",
    "    2. Desimal to Oktal\n",
    "    3. Desimal to Hexadesimal\n",
    "    \"\"\")\n",
    "\n",
    "while True:\n",
    "    menuUtama()\n",
    "    pilihMenu = int(input(\"isikan Pilihan Menu: \"))\n",
    "    if pilihMenu == 1:\n",
    "        menuAritmatika()\n",
    "        pilihFitur = int(input(\"Pilih Fitur: \"))\n",
    "        if pilihFitur == 1:\n",
    "            angka1 = int(input(\"isikan angka 1: \"))\n",
    "            angka2 = int(input(\"isikan angka 2: \"))\n",
    "            tambah = am.tambah(angka1,angka2)\n",
    "            print(f\"Hasil penjumlahan {angka1} dan {angka2} : {tambah}\")\n",
    "        elif pilihFitur == 2:\n",
    "            angka1 = int(input(\"isikan angka 1: \"))\n",
    "            angka2 = int(input(\"isikan angka 2: \"))\n",
    "            pangkat = am.pangkat(angka1,angka2)\n",
    "            print(f\"Hasil pangkat {angka1} dan {angka2} : {pangkat}\")\n",
    "        elif pilihFitur == 3:\n",
    "            angka1 = int(input(\"isikan angka 1: \"))\n",
    "            angka2 = int(input(\"isikan angka 2: \"))\n",
    "            kali = am.kali(angka1,angka2)\n",
    "            print(f\"Hasil perkalian {angka1} dan {angka2} : {kali}\")\n",
    "        else:\n",
    "            print(\"Terima Kasih !!!\")\n",
    "            break\n",
    "    elif pilihMenu == 2:\n",
    "        menuKonversi()\n",
    "        pilihFitur = int(input(\"Pilih Fitur: \"))\n",
    "        if pilihFitur == 1:\n",
    "            pjgCM = int(input(\"Isikan panjang (cm) : \"))\n",
    "            pjgMt = kv.cmToMeter(pjgCM)\n",
    "            print(f\"Panjang dalam meter : {pjgMt}\")\n",
    "        elif pilihFitur == 2:\n",
    "            pjgMt = int(input(\"Isikan panjang (meter) : \"))\n",
    "            pjgCM = kv.meterToCm(pjgMt)\n",
    "            print(f\"Panjang dalam meter : {pjgCM}\")\n",
    "        else:\n",
    "            print(\"Terima Kasih !!!\")\n",
    "            break\n",
    "    elif pilihMenu == 3:\n",
    "        menuUbahBilangan()\n",
    "        pilihFitur = int(input(\"Pilih Fitur: \"))\n",
    "        if pilihFitur == 1:\n",
    "            des = int(input(\"Isikan bilangan desimal: \"))\n",
    "            biner = ub.desToBiner(des)\n",
    "            print(f\"Hasil konversi Desimal to Biner: {biner}\")\n",
    "        elif pilihFitur == 2:\n",
    "            des = int(input(\"Isikan bilangan desimal: \"))\n",
    "            oktal = ub.desToOktal(des)\n",
    "            print(f\"Hasil konversi Desimal to Oktal: {oktal}\")\n",
    "        elif pilihFitur == 3:\n",
    "            des = int(input(\"Isikan bilangan desimal: \"))\n",
    "            hexa = ub.desToHexa(des)\n",
    "            print(f\"Hasil konversi Desimal to Hexadesimal: {hexa}\")\n",
    "        else:\n",
    "            print(\"Terima Kasih !!!\")\n",
    "            break\n",
    "    else:\n",
    "        print(\"Terima Kasih !!!\")\n",
    "        break"
   ]
  }
 ],
 "metadata": {
  "kernelspec": {
   "display_name": "Python 3 (ipykernel)",
   "language": "python",
   "name": "python3"
  },
  "language_info": {
   "codemirror_mode": {
    "name": "ipython",
    "version": 3
   },
   "file_extension": ".py",
   "mimetype": "text/x-python",
   "name": "python",
   "nbconvert_exporter": "python",
   "pygments_lexer": "ipython3",
   "version": "3.12.7"
  }
 },
 "nbformat": 4,
 "nbformat_minor": 5
}
